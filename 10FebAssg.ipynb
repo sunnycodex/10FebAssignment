{
 "cells": [
  {
   "cell_type": "markdown",
   "id": "ab33efed-c4b8-4015-baa8-f05a62abc380",
   "metadata": {},
   "source": [
    "Q1. To open a file in Python, you can use the built-in open() function.\n",
    "    In Python, you can open a file in different modes based on your requirement. The different modes of file opening are:\n",
    "\n",
    "    \"r\" (read mode): This mode is used to open a file for reading purposes. If the file doesn't exist, it will raise a FileNotFoundError. This is the default mode if you don't specify any mode while opening a file. Example: file = open(\"myfile.txt\", \"r\")\n",
    "\n",
    "    \"w\" (write mode): This mode is used to open a file for writing purposes. If the file doesn't exist, it will create a new file. If the file already exists, it will truncate the file to zero length before writing. Example: file = open(\"myfile.txt\", \"w\")\n",
    "\n",
    "    \"a\" (append mode): This mode is used to open a file for appending purposes. If the file doesn't exist, it will create a new file. If the file already exists, it will append the data to the end of the file without truncating it. Example: file = open(\"myfile.txt\", \"a\")\n",
    "\n",
    "    \"x\" (exclusive creation mode): This mode is used to create a new file exclusively. If the file already exists, it will raise a FileExistsError. Example: file = open(\"myfile.txt\", \"x\")\n",
    "\n",
    "    \"b\" (binary mode): This mode is used to open a file in binary mode. This mode should be used when you want to read or write binary data like images, audio files, etc. Example: file = open(\"myfile.png\", \"rb\")\n",
    "\n",
    "    \"t\" (text mode): This mode is used to open a file in text mode. This mode should be used when you want to read or write text data. This is the default mode if you don't specify any mode while opening a file. Example: file = open(\"myfile.txt\", \"rt\")\n",
    "\n",
    "Q2. In programming, the close() function is used to close a file after it has been opened for reading, writing or appending. It is important to close a  file because it releases the system resources that were being used to keep the file open.\n",
    "    When you open a file, the operating system assigns certain resources to that file. These resources might include memory, disk space, or other system resources that the operating system uses to manage the file. If you don't close the file properly, these resources may remain in use, which can cause problems like memory leaks, file corruption or data loss.\n"
   ]
  },
  {
   "cell_type": "code",
   "execution_count": 13,
   "id": "d85c94f6-e828-489c-806e-75e5744cfd42",
   "metadata": {},
   "outputs": [],
   "source": [
    " #Q3.\n",
    "    f = open(\"new.txt\", \"w\")"
   ]
  },
  {
   "cell_type": "code",
   "execution_count": 16,
   "id": "65a548b2-b131-4604-a36a-47f62d0f169f",
   "metadata": {},
   "outputs": [
    {
     "data": {
      "text/plain": [
       "33"
      ]
     },
     "execution_count": 16,
     "metadata": {},
     "output_type": "execute_result"
    }
   ],
   "source": [
    "f.write(\"I want to become a Data Scientist\")"
   ]
  },
  {
   "cell_type": "code",
   "execution_count": 17,
   "id": "32e98604-c0a7-4229-9e3d-47d04cbdb997",
   "metadata": {},
   "outputs": [],
   "source": [
    "f.close()"
   ]
  },
  {
   "cell_type": "code",
   "execution_count": 22,
   "id": "fec0134c-e743-4a43-bca7-a0e15148226c",
   "metadata": {},
   "outputs": [],
   "source": [
    " f =open(\"new.txt\",\"r\")"
   ]
  },
  {
   "cell_type": "code",
   "execution_count": 23,
   "id": "d61af22a-f636-4bb6-ba12-d306c753045a",
   "metadata": {},
   "outputs": [
    {
     "data": {
      "text/plain": [
       "'I want to become a Data ScientistI want to become a Data Scientist'"
      ]
     },
     "execution_count": 23,
     "metadata": {},
     "output_type": "execute_result"
    }
   ],
   "source": [
    "f.read()"
   ]
  },
  {
   "cell_type": "markdown",
   "id": "0c69d075-0b7b-4d21-b869-a85c6f83f6ef",
   "metadata": {
    "tags": []
   },
   "source": [
    "Q4. 1. read() method: The read() method reads the entire contents of a file and returns it as a single string. This method takes an optional parameter that specifies the maximum number of bytes to read. If no parameter is specified, the method reads the entire file. Here is an example code:\n",
    "makefile.\n",
    "\n",
    "   # Open file\n",
    "file = open(\"example.txt\", \"r\")\n",
    "\n",
    "# Read entire file\n",
    "contents = file.read()\n",
    "\n",
    "# Print contents\n",
    "print(contents)\n",
    "\n",
    "# Close file\n",
    "file.close()\n",
    "\n",
    "  2.   readline() method: The readline() method reads a single line from a file and returns it as a string. This method moves the file pointer to the next line after reading the current line. If the end of the file is reached, an empty string is returned. Here is an example code:\n",
    "      \n",
    "# Open file\n",
    "file = open(\"example.txt\", \"r\")\n",
    "\n",
    "# Read first line\n",
    "line = file.readline()\n",
    "\n",
    "# Loop through file and read each line\n",
    "while line:\n",
    "    print(line)\n",
    "    line = file.readline()\n",
    "\n",
    "# Close file\n",
    "file.close()\n",
    " \n",
    "  3. readlines() method: The readlines() method reads all the lines of a file and returns them as a list of strings. Each string in the list represents a single line in the file, including the newline character at the end of each line. Here is an example code:\n",
    " \n",
    " # Open file\n",
    "file = open(\"example.txt\", \"r\")\n",
    "\n",
    "# Read all lines\n",
    "lines = file.readlines()\n",
    "\n",
    "# Loop through lines and print them\n",
    "for line in lines:\n",
    "    print(line)\n",
    "\n",
    "# Close file\n",
    "file.close()\n",
    "\n",
    "\n"
   ]
  },
  {
   "cell_type": "code",
   "execution_count": 25,
   "id": "345d17ca-13d9-46b8-aa4d-53d70ccc2331",
   "metadata": {},
   "outputs": [
    {
     "data": {
      "text/plain": [
       "'The advantages of using with statement with open() function are:\\n\\n1.Automatic resource management: Using the with statement with open() function eliminates the need to manually close the file using the close() method. The with statement takes care of closing the file automatically, even if an exception occurs.\\n\\n2.Clean and readable code: The with statement makes the code cleaner and more readable by reducing the number of lines required to open and close a file. This makes the code easier to understand and maintain.\\n\\n3.Efficient memory usage: Using the with statement ensures that system resources are released immediately after they are no longer needed. This makes the program more memory-efficient, as it avoids holding onto resources for longer than necessary.'"
      ]
     },
     "execution_count": 25,
     "metadata": {},
     "output_type": "execute_result"
    }
   ],
   "source": [
    "#Q.5\n",
    "\"\"\"In Python, the with statement is used with the open() function to ensure that a file is closed properly after it has been used. The with statement provides a way to automatically clean up resources used by a file, even if an error occurs while the file is being processed.\n",
    "\n",
    "Here's an example code that uses the with statement with open() function to read a file:\"\"\"\n",
    "#with open(\"example.txt\", \"r\") as file:\n",
    "    #contents = file.read()\n",
    "    #print(contents)\n",
    "\n",
    "#In this example, the with statement opens the file \"example.txt\" in read mode and assigns it to the variable file. The with statement ensures that the file is closed properly after the code inside the block is executed.\n",
    "\n",
    "\"\"\"The advantages of using with statement with open() function are:\n",
    "\n",
    "1.Automatic resource management: Using the with statement with open() function eliminates the need to manually close the file using the close() method. The with statement takes care of closing the file automatically, even if an exception occurs.\n",
    "\n",
    "2.Clean and readable code: The with statement makes the code cleaner and more readable by reducing the number of lines required to open and close a file. This makes the code easier to understand and maintain.\n",
    "\n",
    "3.Efficient memory usage: Using the with statement ensures that system resources are released immediately after they are no longer needed. This makes the program more memory-efficient, as it avoids holding onto resources for longer than necessary.\"\"\""
   ]
  },
  {
   "cell_type": "markdown",
   "id": "6feb7bd1-2f2b-47dc-95fd-cc03cc9e66e8",
   "metadata": {},
   "source": [
    "Q6.\n",
    "In Python, the write() and writelines() functions are used to write data to a file. Here's an explanation of each function with an example code:\n",
    "write() function: The write() function is used to write a single string to a file. This function takes a single argument, which is the string to be written to the file. The write() function returns the number of characters written to the file. If the file already exists, the write() function overwrites the existing content of the file. Here's an example code:\n",
    "# Open file in write mode\n",
    "file = open(\"example.txt\", \"w\")\n",
    "\n",
    "# Write a string to the file\n",
    "file.write(\"This is an example file.\")\n",
    "\n",
    "# Close the file\n",
    "file.close()\n",
    "\n",
    "writelines() function: The writelines() function is used to write a list of strings to a file. Each string in the list represents a single line in the file. This function takes a single argument, which is a list of strings to be written to the file. Here's an example code:\n",
    "# Open file in write mode\n",
    "file = open(\"example.txt\", \"w\")\n",
    "\n",
    "# Create a list of strings\n",
    "lines = [\"Line 1\\n\", \"Line 2\\n\", \"Line 3\\n\"]\n",
    "\n",
    "# Write list of strings to the file\n",
    "file.writelines(lines)\n",
    "\n",
    "# Close the file\n",
    "file.close()\n"
   ]
  }
 ],
 "metadata": {
  "kernelspec": {
   "display_name": "Python 3 (ipykernel)",
   "language": "python",
   "name": "python3"
  },
  "language_info": {
   "codemirror_mode": {
    "name": "ipython",
    "version": 3
   },
   "file_extension": ".py",
   "mimetype": "text/x-python",
   "name": "python",
   "nbconvert_exporter": "python",
   "pygments_lexer": "ipython3",
   "version": "3.10.8"
  }
 },
 "nbformat": 4,
 "nbformat_minor": 5
}
